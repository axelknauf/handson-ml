{
 "cells": [
  {
   "cell_type": "code",
   "execution_count": 2,
   "metadata": {},
   "outputs": [
    {
     "name": "stdout",
     "output_type": "stream",
     "text": [
      "42\n"
     ]
    }
   ],
   "source": [
    "import tensorflow as tf\n",
    "\n",
    "x = tf.Variable(3, name=\"x\")\n",
    "y = tf.Variable(4, name=\"y\")\n",
    "f = x*x*y + y + 2\n",
    "\n",
    "init = tf.global_variables_initializer()\n",
    "\n",
    "with tf.Session() as sess:\n",
    "    init.run()\n",
    "    result = f.eval()\n",
    "\n",
    "print(result)"
   ]
  },
  {
   "cell_type": "code",
   "execution_count": 3,
   "metadata": {},
   "outputs": [
    {
     "name": "stdout",
     "output_type": "stream",
     "text": [
      "[[ -3.74651413e+01]\n",
      " [  4.35734153e-01]\n",
      " [  9.33829229e-03]\n",
      " [ -1.06622010e-01]\n",
      " [  6.44106984e-01]\n",
      " [ -4.25131839e-06]\n",
      " [ -3.77322501e-03]\n",
      " [ -4.26648885e-01]\n",
      " [ -4.40514028e-01]]\n"
     ]
    }
   ],
   "source": [
    "# (p. 236) Linear regression with TensorFlow on the housing data set\n",
    "import numpy as np\n",
    "from sklearn.datasets import fetch_california_housing\n",
    "\n",
    "housing = fetch_california_housing()\n",
    "m, n = housing.data.shape\n",
    "housing_data_plus_bias = np.c_[np.ones((m, 1)), housing.data]\n",
    "\n",
    "X = tf.constant(housing_data_plus_bias, dtype=tf.float32, name=\"X\")\n",
    "y = tf.constant(housing.target.reshape(-1, 1), dtype=tf.float32, name=\"y\")\n",
    "XT = tf.transpose(X)\n",
    "# standard normal equation using TF API\n",
    "theta = tf.matmul(tf.matmul(tf.matrix_inverse(tf.matmul(XT, X)), XT), y)\n",
    "\n",
    "with tf.Session() as sess:\n",
    "    theta_value = theta.eval()\n",
    "    \n",
    "print(theta_value)"
   ]
  },
  {
   "cell_type": "code",
   "execution_count": 6,
   "metadata": {},
   "outputs": [
    {
     "name": "stdout",
     "output_type": "stream",
     "text": [
      "Epoch 0 MSE = 8.06203\n",
      "Epoch 100 MSE = 4.96944\n",
      "Epoch 200 MSE = 4.88703\n",
      "Epoch 300 MSE = 4.86446\n",
      "Epoch 400 MSE = 4.84949\n",
      "Epoch 500 MSE = 4.83842\n",
      "Epoch 600 MSE = 4.83012\n",
      "Epoch 700 MSE = 4.82391\n",
      "Epoch 800 MSE = 4.81922\n",
      "Epoch 900 MSE = 4.81565\n",
      "Epoch 1000 MSE = 4.81293\n",
      "Epoch 1100 MSE = 4.81084\n",
      "Epoch 1200 MSE = 4.80924\n",
      "Epoch 1300 MSE = 4.80799\n",
      "Epoch 1400 MSE = 4.80702\n",
      "Epoch 1500 MSE = 4.80627\n",
      "Epoch 1600 MSE = 4.80567\n",
      "Epoch 1700 MSE = 4.80522\n",
      "Epoch 1800 MSE = 4.80482\n",
      "Epoch 1900 MSE = 4.80454\n",
      "Best theta: [[ -4.89522219e-01   2.10625648e-01  -9.79861259e-01   2.98736095e-01\n",
      "   -6.26909733e-01   8.27973604e-01   9.60164070e-01  -6.50327206e-02]\n",
      " [  8.45440805e-01   8.41708839e-01   8.55238080e-01   8.62918615e-01\n",
      "    8.66773069e-01   8.48532498e-01   8.56408894e-01   7.82870054e-01]\n",
      " [  1.24781199e-01   1.23740420e-01   1.28128588e-01   1.28970012e-01\n",
      "    1.34137064e-01   1.24078609e-01   1.29976422e-01   1.15455113e-01]\n",
      " [ -2.89689958e-01  -2.83276558e-01  -3.05375189e-01  -3.21005881e-01\n",
      "   -3.19975674e-01  -2.97929376e-01  -3.04541528e-01  -1.66973352e-01]\n",
      " [  3.23157430e-01   3.18134665e-01   3.34885299e-01   3.48302722e-01\n",
      "    3.43795389e-01   3.31025481e-01   3.32856625e-01   2.19702840e-01]\n",
      " [ -2.51490297e-03  -2.84509454e-03  -1.42434251e-03  -1.21795782e-03\n",
      "    6.11732656e-04  -2.81064701e-03  -7.67333026e-04  -5.09540830e-03]\n",
      " [ -4.01736684e-02  -4.00060602e-02  -4.06657308e-02  -4.09006663e-02\n",
      "   -4.14199568e-02  -4.01801504e-02  -4.08469997e-02  -3.80506143e-02]\n",
      " [ -8.41074944e-01  -8.52167130e-01  -8.07473183e-01  -7.94127345e-01\n",
      "   -7.52841651e-01  -8.43293428e-01  -7.92904317e-01  -9.67815936e-01]\n",
      " [ -8.13294590e-01  -8.23983014e-01  -7.80696392e-01  -7.68298507e-01\n",
      "   -7.27059484e-01  -8.15988958e-01  -7.66116440e-01  -9.32535470e-01]]\n"
     ]
    }
   ],
   "source": [
    "# (p. 237) Gradient descent with TF\n",
    "n_epochs = 2000\n",
    "learning_rate = 0.01\n",
    "\n",
    "from sklearn.preprocessing import StandardScaler\n",
    "\n",
    "std_scaler = StandardScaler()\n",
    "scaled_housing_data_plus_bias = std_scaler.fit_transform(housing_data_plus_bias)\n",
    "\n",
    "X = tf.constant(scaled_housing_data_plus_bias, dtype=tf.float32, name=\"X\")\n",
    "y = tf.constant(housing.target.reshape(-1, 1), dtype=tf.float32, name=\"y\")\n",
    "theta = tf.Variable(tf.random_uniform([n + 1, n], -1.0, 1.0), name=\"theta\")\n",
    "y_pred = tf.matmul(X, theta, name=\"predictions\")\n",
    "error = y_pred - y\n",
    "mse = tf.reduce_mean(tf.square(error), name=\"mse\")\n",
    "gradients = 2/m * tf.matmul(tf.transpose(X), error)\n",
    "# this is one learning step:\n",
    "training_op = tf.assign(theta, theta - learning_rate * gradients)\n",
    "\n",
    "init = tf.global_variables_initializer()\n",
    "\n",
    "with tf.Session() as sess:\n",
    "    sess.run(init)\n",
    "    \n",
    "    for epoch in range(n_epochs):\n",
    "        if epoch % 100 == 0:\n",
    "            print(\"Epoch\", epoch, \"MSE =\", mse.eval())\n",
    "        sess.run(training_op)    \n",
    "    best_theta = theta.eval()\n",
    "    print(\"Best theta:\", best_theta)"
   ]
  },
  {
   "cell_type": "code",
   "execution_count": 7,
   "metadata": {},
   "outputs": [
    {
     "name": "stdout",
     "output_type": "stream",
     "text": [
      "Epoch 0 MSE = 7.58738\n",
      "Epoch 100 MSE = 6.33017\n",
      "Epoch 200 MSE = 5.70856\n",
      "Epoch 300 MSE = 5.38441\n",
      "Epoch 400 MSE = 5.20672\n",
      "Epoch 500 MSE = 5.10477\n",
      "Epoch 600 MSE = 5.0437\n",
      "Epoch 700 MSE = 5.00549\n",
      "Epoch 800 MSE = 4.98047\n",
      "Epoch 900 MSE = 4.96326\n",
      "Epoch 1000 MSE = 4.95077\n",
      "Epoch 1100 MSE = 4.94121\n",
      "Epoch 1200 MSE = 4.93352\n",
      "Epoch 1300 MSE = 4.92703\n",
      "Epoch 1400 MSE = 4.92137\n",
      "Epoch 1500 MSE = 4.91629\n",
      "Epoch 1600 MSE = 4.91162\n",
      "Epoch 1700 MSE = 4.90728\n",
      "Epoch 1800 MSE = 4.90318\n",
      "Epoch 1900 MSE = 4.89934\n",
      "Best theta: [[-0.11712837  0.53153443 -0.14883876 -0.18799949 -0.14060116 -0.88531971\n",
      "  -0.13820291 -0.78350902]\n",
      " [ 0.88760036  0.55963671  0.7532382   0.5534566   0.80381     0.7586754\n",
      "   0.85988253  0.95347047]\n",
      " [ 0.1985449   0.22024105  0.27843335  0.1802434   0.22131379  0.18268508\n",
      "   0.13371889  0.20345362]\n",
      " [-0.23914604  0.53951705  0.16831592  0.4659254  -0.01822526  0.03662416\n",
      "  -0.30070025 -0.39503318]\n",
      " [ 0.21951514 -0.50196099 -0.17858735 -0.3912054   0.01668435 -0.02695157\n",
      "   0.31851643  0.36409917]\n",
      " [ 0.02096118  0.02523304  0.06382389  0.01984032  0.03431081  0.00712856\n",
      "  -0.00190528  0.02806803]\n",
      " [-0.04714072 -0.03674926 -0.0471019  -0.03710011 -0.04499966 -0.0449803\n",
      "  -0.04608313 -0.05101898]\n",
      " [-0.20128435 -0.26127064  0.10801823 -0.71747774 -0.21185212 -0.36108151\n",
      "  -0.68076533 -0.15420188]\n",
      " [-0.17214373 -0.18499924  0.15983735 -0.64525521 -0.16994755 -0.31380567\n",
      "  -0.65392429 -0.1347615 ]]\n"
     ]
    }
   ],
   "source": [
    "# (p. 238) same, but use TF for determining the gradients to make more efficient\n",
    "n_epochs = 2000\n",
    "learning_rate = 0.01\n",
    "\n",
    "from sklearn.preprocessing import StandardScaler\n",
    "\n",
    "std_scaler = StandardScaler()\n",
    "scaled_housing_data_plus_bias = std_scaler.fit_transform(housing_data_plus_bias)\n",
    "\n",
    "X = tf.constant(scaled_housing_data_plus_bias, dtype=tf.float32, name=\"X\")\n",
    "y = tf.constant(housing.target.reshape(-1, 1), dtype=tf.float32, name=\"y\")\n",
    "theta = tf.Variable(tf.random_uniform([n + 1, n], -1.0, 1.0), name=\"theta\")\n",
    "y_pred = tf.matmul(X, theta, name=\"predictions\")\n",
    "error = y_pred - y\n",
    "mse = tf.reduce_mean(tf.square(error), name=\"mse\")\n",
    "\n",
    "\n",
    "# Here's the difference to the previous cell:\n",
    "gradients = tf.gradients(mse, [theta])[0]\n",
    "\n",
    "# this is one learning step:\n",
    "training_op = tf.assign(theta, theta - learning_rate * gradients)\n",
    "\n",
    "init = tf.global_variables_initializer()\n",
    "\n",
    "with tf.Session() as sess:\n",
    "    sess.run(init)\n",
    "    \n",
    "    for epoch in range(n_epochs):\n",
    "        if epoch % 100 == 0:\n",
    "            print(\"Epoch\", epoch, \"MSE =\", mse.eval())\n",
    "        sess.run(training_op)    \n",
    "    best_theta = theta.eval()\n",
    "    print(\"Best theta:\", best_theta)"
   ]
  },
  {
   "cell_type": "code",
   "execution_count": null,
   "metadata": {
    "collapsed": true
   },
   "outputs": [],
   "source": []
  }
 ],
 "metadata": {
  "kernelspec": {
   "display_name": "Python 3",
   "language": "python",
   "name": "python3"
  },
  "language_info": {
   "codemirror_mode": {
    "name": "ipython",
    "version": 3
   },
   "file_extension": ".py",
   "mimetype": "text/x-python",
   "name": "python",
   "nbconvert_exporter": "python",
   "pygments_lexer": "ipython3",
   "version": "3.5.2"
  }
 },
 "nbformat": 4,
 "nbformat_minor": 2
}
